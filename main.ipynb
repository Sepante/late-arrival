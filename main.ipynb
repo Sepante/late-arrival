{
 "cells": [
  {
   "cell_type": "code",
   "execution_count": 2,
   "metadata": {},
   "outputs": [],
   "source": [
    "import numpy as np\n",
    "import matplotlib.pyplot as plt\n",
    "import seaborn as sns\n",
    "import matplotlib\n",
    "from matplotlib import cm\n",
    "from network_cons import *"
   ]
  },
  {
   "cell_type": "code",
   "execution_count": 9,
   "metadata": {},
   "outputs": [],
   "source": [
    "#setup\n",
    "step_num = 5000\n",
    "mode_num = 2\n",
    "proportion = 0.5\n",
    "h = 0.8\n",
    "k_init = 2 #initial degree of each node\n",
    "\n",
    "late_comer_mode = 0\n",
    "# t_emerge = step_num // 3\n",
    "t_emerge = 0\n",
    "# t_unbias = step_num // 20\n",
    "t_unbias = step_num + 1\n",
    "# t_unbias = 5000\n",
    "\n",
    "history_step_size = 0\n",
    "eps = 1\n",
    "\n",
    "distribution = 'identical'# 'uniform'\n",
    "# distribution = 'uniform'\n"
   ]
  },
  {
   "cell_type": "code",
   "execution_count": 10,
   "metadata": {},
   "outputs": [],
   "source": [
    "degrees, modes, fitnesses = net_grow( step_num, mode_num, proportion, h, k_init, late_comer_mode\\\n",
    "         , t_emerge, t_unbias, distribution, history_step_size, eps)"
   ]
  },
  {
   "cell_type": "code",
   "execution_count": 11,
   "metadata": {},
   "outputs": [
    {
     "data": {
      "text/plain": [
       "array([555,  50, 447, ...,   2,   2,   2])"
      ]
     },
     "execution_count": 11,
     "metadata": {},
     "output_type": "execute_result"
    }
   ],
   "source": [
    "degrees"
   ]
  },
  {
   "cell_type": "code",
   "execution_count": 13,
   "metadata": {},
   "outputs": [
    {
     "data": {
      "text/plain": [
       "array([1, 1, 0, ..., 1, 0, 0])"
      ]
     },
     "execution_count": 13,
     "metadata": {},
     "output_type": "execute_result"
    }
   ],
   "source": [
    "modes"
   ]
  },
  {
   "cell_type": "code",
   "execution_count": 5,
   "metadata": {},
   "outputs": [
    {
     "data": {
      "text/plain": [
       "<matplotlib.legend.Legend at 0x7f80dafc3490>"
      ]
     },
     "execution_count": 5,
     "metadata": {},
     "output_type": "execute_result"
    },
    {
     "data": {
      "image/png": "[encoded data removed]",
      "text/plain": [
       "<Figure size 432x288 with 1 Axes>"
      ]
     },
     "metadata": {
      "needs_background": "light"
     },
     "output_type": "display_data"
    }
   ],
   "source": [
    "matplotlib.rcParams.update({'font.size': 12})\n",
    "\n",
    "fig, ax = plt.subplots()\n",
    "\n",
    "mode_labels = ['min', 'Maj']\n",
    "\n",
    "division = np.logspace(np.log(0.01), np.log(1),1000)\n",
    "distributions = []\n",
    "for mode in list( range(mode_num-1, -1, -1) ):\n",
    "\n",
    "    selected_nodes = np.all ([modes == mode, degrees > 2], 0)\n",
    "    distribution = np.quantile( degrees[selected_nodes], division )\n",
    "    distributions.append(distribution)\n",
    "    # ax.plot( division, distribution, alpha = 0.8, label = mode_labels[mode])\n",
    "    ax.plot( distribution, division, alpha = 0.8, label = mode_labels[mode])\n",
    "\n",
    "ax.set_xscale('log')\n",
    "# ax.set_xlim([0.6, 1])\n",
    "# ax.set_xscale('log')\n",
    "ax.set_xlabel('$k$')\n",
    "ax.set_ylabel('$CDF(k)$')\n",
    "\n",
    "ax.legend()\n"
   ]
  },
  {
   "cell_type": "code",
   "execution_count": 11,
   "metadata": {},
   "outputs": [],
   "source": [
    "step_num = 2000\n",
    "h = 0.8\n",
    "bin_num  = 10\n",
    "run_num = 1\n",
    "degrees_ensemble = []\n",
    "minority_degrees_ensemble = []\n",
    "majority_degrees_ensemble = []\n",
    "# t_unbias_array = list( np.arange(100, 500, 100) ) + list( np.arange(500, step_num, 500) )\n",
    "# t_unbias_array = list( np.arange(100, step_num, 500) )\n",
    "t_unbias_array = np.array([5000])\n",
    "mode_num = 2\n",
    "proportion = 0.1\n",
    "\n",
    "k_init = 2\n",
    "\n",
    "eps = 1\n",
    "history_step_size = 1000\n",
    "late_comer_mode = 0\n",
    "\n",
    "proportion = 0.1\n",
    "bins = []\n",
    "histogram_history = []\n",
    "t_emerge = 0\n",
    "\n",
    "distribution = 'identical'\n",
    "\n",
    "t_unbias_array = np.array( t_unbias_array )\n",
    "for t_unbias in t_unbias_array:\n",
    "#     print(t_unbias)\n",
    "    iter_minor_means = []\n",
    "    iter_major_means = []\n",
    "    for i in range(run_num):\n",
    "        degrees_history, history_steps, degrees, modes, fitnesses = net_grow( step_num, mode_num, proportion, h, k_init, late_comer_mode\\\n",
    "         , t_emerge, t_unbias, distribution, history_step_size, eps)\n",
    "\n",
    "#         degrees_ensemble.append( degrees )\n",
    "        if len(bins) == 0: #using the same bins for all\n",
    "            bins = np.logspace(np.log10(degrees.min()),np.log10(degrees.max()), bin_num + 1)\n",
    "        iter_minor_means.append( degrees[modes==0].mean() )\n",
    "        iter_major_means.append( degrees[modes==1].mean() )\n",
    "        hist, bins = np.histogram( degrees[modes==0], \\\n",
    "                                  bins = bins\\\n",
    "                                  , density = True )\n",
    "        histogram_history.append(hist)\n",
    "        minority_degrees_ensemble.append ( np.mean(iter_minor_means) )\n",
    "        majority_degrees_ensemble.append ( np.mean( iter_major_means ) )"
   ]
  },
  {
   "cell_type": "code",
   "execution_count": 20,
   "metadata": {},
   "outputs": [],
   "source": [
    "step_num = 50000\n",
    "h = 0.8\n",
    "t_unbias_array = np.array([5000])\n",
    "eps = 1\n",
    "history_step_size = 1000\n",
    "proportion = 0.1\n",
    "distribution = 'identical'\n",
    "\n",
    "degrees_history, history_steps, degrees, modes, fitnesses = net_grow( step_num, mode_num, proportion, h, k_init, late_comer_mode\\\n",
    " , t_emerge, t_unbias, distribution, history_step_size, eps)\n"
   ]
  },
  {
   "cell_type": "code",
   "execution_count": 21,
   "metadata": {},
   "outputs": [
    {
     "data": {
      "text/plain": [
       "<Figure size 432x288 with 0 Axes>"
      ]
     },
     "metadata": {},
     "output_type": "display_data"
    },
    {
     "data": {
      "image/png": "[encoded data removed]",
      "text/plain": [
       "<Figure size 396x504 with 2 Axes>"
      ]
     },
     "metadata": {
      "needs_background": "light"
     },
     "output_type": "display_data"
    }
   ],
   "source": [
    "# from mpl_toolkits.axes_grid1.inset_locator import inset_axes\n",
    "from matplotlib.gridspec import GridSpec\n",
    "from mpl_toolkits.axes_grid1 import make_axes_locatable\n",
    "\n",
    "\n",
    "\n",
    "fig = plt.figure()\n",
    "figure_ratio = 0.2\n",
    "fig = plt.figure(figsize=(5*(0.9+figure_ratio), 7 ))\n",
    "\n",
    "gs = GridSpec(2, 1, height_ratios=[5, 5])\n",
    "ax = fig.add_subplot(gs[0])\n",
    "ay = fig.add_subplot(gs[1])\n",
    "\n",
    "\n",
    "# divider = make_axes_locatable(ay)\n",
    "# ax2 = divider.new_vertical(size=\"100%\", pad=0.2)\n",
    "# fig.add_axes(ax2)\n",
    "\n",
    "\n",
    "# legend_ax = fig.add_axes([0,0.97,1,0.1])\n",
    "# legend_ax.axis('off')\n",
    "\n",
    "\n",
    "matplotlib.rcParams.update({'font.size': 14})\n",
    "\n",
    "colors = sns.color_palette(\"Paired\")\n",
    "proportions = [proportion, 1-proportion]\n",
    "# colors = plt.cm.Paired\n",
    "labels = ['min', 'Maj']\n",
    "for mode in range(mode_num):\n",
    "    \n",
    "    m_degrees = degrees_history[:, modes == mode ]\n",
    "#     ax.plot( history_steps, m_degrees.mean(1)/degrees_history.mean(1), '--o'\\\n",
    "#         , c = colors[mode * 4], markeredgecolor = 'k', label = labels[mode] )\n",
    "    # ax.set_xscale('log')\n",
    "    # ax.set_yscale('log')\n",
    "\n",
    "    ax.plot( history_steps, m_degrees.sum(1)/degrees_history.sum(1) / proportions[mode], '--o'\\\n",
    "        , c = colors[mode * 4], markeredgecolor = 'k', label = labels[mode] )\n",
    "#     ax2.plot( history_steps, m_degrees.sum(1)/degrees_history.sum(1)/ proportions[mode], '--o'\\\n",
    "#         , c = colors[mode * 4], markeredgecolor = 'k')\n",
    "    ay.plot( history_steps[1:]\\\n",
    "            , np.diff( m_degrees,axis = 0).sum(1) / np.diff( degrees_history ,axis = 0).sum(1) / proportions[mode]\\\n",
    "            , '--o' , c = colors[mode * 4], markeredgecolor = 'k' )\n",
    "\n",
    "\n",
    "ay.set_xlim( ax.get_xlim() )\n",
    "\n",
    "\n",
    "ay.set_ylabel('$ \\\\widetilde{ \\dot{ \\\\rho}(k) } $')\n",
    "ax.set_ylabel('$ \\\\widetilde{ \\\\rho(k) } $')\n",
    "ay.set_xlabel('$ t $')\n",
    "\n",
    "ay.axhline(1, c = 'k' )\n",
    "\n",
    "ax.axvline(t_unbias, c='k', linestyle = 'dotted', zorder = 0)\n",
    "ay.axvline(t_unbias, c='k', linestyle = 'dotted', zorder = 0, label = '$t_u$')\n",
    "\n",
    "\n",
    "handles, labels = ax.get_legend_handles_labels()\n",
    "handles_ay, labels_ay = ay.get_legend_handles_labels()\n",
    "\n",
    "handles.extend( handles_ay )\n",
    "labels.extend( labels_ay )\n",
    "\n",
    "ax.legend(handles, labels, bbox_to_anchor=(0,1.02,1,0.2), loc=\"lower left\",\n",
    "                mode=\"expand\", borderaxespad=0, ncol=3, fontsize = '13')\n",
    "\n",
    "ay.ticklabel_format(axis='x', style='sci', scilimits=(0,0))\n",
    "ay.xaxis.major.formatter._useMathText = True\n",
    "\n",
    "ax.set_xticks([])\n",
    "\n",
    "fig.tight_layout()\n",
    "# plt.show()\n",
    "fig.savefig('over-time_d_h8787=-' + str(h) + '-' + distribution +'-eps=' + str(eps) + '.png', dpi = 200, bbox_inches='tight')\n"
   ]
  },
  {
   "cell_type": "code",
   "execution_count": 22,
   "metadata": {},
   "outputs": [
    {
     "data": {
      "image/png": "[encoded data removed]",
      "text/plain": [
       "<Figure size 432x288 with 1 Axes>"
      ]
     },
     "metadata": {
      "needs_background": "light"
     },
     "output_type": "display_data"
    }
   ],
   "source": [
    "fig, ax = plt.subplots()\n",
    "\n",
    "matplotlib.rcParams.update({'font.size': 15})\n",
    "\n",
    "colors = sns.color_palette(\"Paired\")\n",
    "# colors = plt.cm.Paired\n",
    "labels = ['min', 'Maj']\n",
    "for mode in range(mode_num):\n",
    "    \n",
    "    m_degrees = degrees_history[:, modes == mode ]\n",
    "    ax.plot( history_steps, m_degrees.mean(1)/degrees_history.mean(1), '--o'\\\n",
    "        , c = colors[mode * 2 + 1], markeredgecolor = 'k', label = labels[mode] )\n",
    "    # ax.set_xscale('log')\n",
    "    # ax.set_yscale('log')\n",
    "\n",
    "    # ax.set_xlim( [ 0, 10 ] )\n",
    "    ax.set_ylabel('$ \\langle k \\\\rangle $')\n",
    "    ax.set_xlabel('$ t $')\n",
    "\n",
    "\n",
    "\n",
    "\n",
    "ax.axvline(t_unbias, c='k', linestyle = 'dotted', zorder = 0, label = '$t_u$')\n",
    "# t_unbias\n",
    "ax.legend(fontsize = '11')\n",
    "\n",
    "\n",
    "\n",
    "plt.show()\n",
    "# fig.savefig('over-time.png', dpi = 200, bbox_inches='tight')"
   ]
  },
  {
   "cell_type": "code",
   "execution_count": 34,
   "metadata": {},
   "outputs": [],
   "source": [
    "import numpy as np\n",
    "import matplotlib.pyplot as plt\n",
    "import seaborn as sns\n",
    "import matplotlib\n",
    "import pandas as pd\n",
    "from matplotlib import cm\n",
    "from network_cons import *"
   ]
  },
  {
   "cell_type": "code",
   "execution_count": 35,
   "metadata": {},
   "outputs": [],
   "source": [
    "#setup\n",
    "step_num = 50000\n",
    "mode_num = 2\n",
    "proportion = 0\n",
    "h = 0.8\n",
    "k_init = 2 #initial degree of each node\n",
    "\n",
    "late_comer_mode = 0\n",
    "# t_emerge = step_num // 3\n",
    "t_emerge = 0\n",
    "# t_unbias = step_num // 20\n",
    "t_unbias = step_num + 1\n",
    "# t_unbias = 5000\n",
    "\n",
    "history_step_size = 0\n",
    "eps = 1\n",
    "\n",
    "# distribution = 'identical'# 'uniform'\n",
    "distribution = 'identical'\n"
   ]
  },
  {
   "cell_type": "code",
   "execution_count": 36,
   "metadata": {},
   "outputs": [
    {
     "name": "stdout",
     "output_type": "stream",
     "text": [
      "2\n",
      "100\n",
      "500\n",
      "1000\n",
      "1500\n",
      "2000\n"
     ]
    }
   ],
   "source": [
    "step_num = 5000\n",
    "h = 0.8\n",
    "run_num = 200\n",
    "degrees_ensemble = []\n",
    "proportion = 0.1\n",
    "decay = False\n",
    "\n",
    "if decay:\n",
    "    minority_degrees_ensemble_decayed = []\n",
    "else:\n",
    "    minority_degrees_ensemble_no_decay = []\n",
    "history_step_size = 0\n",
    "# t_unbias_array = np.arange(step_num//40, step_num//4, step_num//40)\n",
    "# t_unbias_array = list( np.arange(100, 500, 200) ) + list( np.arange(500, step_num, 750) )\n",
    "t_unbias_array = [ 2, 100, 500, 1000, 1500, 2000 ]\n",
    "t_unbias_values_num = len( t_unbias_array )\n",
    "# t_unbias_array = list( np.arange(100, step_num, 500) )\n",
    "\n",
    "\n",
    "decay_rates = np.linspace(0.5, 1, 3)\n",
    "\n",
    "decay_rates = [1]\n",
    "\n",
    "decay_values_num = len(decay_rates)\n",
    "\n",
    "decay_df = pd.DataFrame(index = range(t_unbias_values_num * run_num * decay_values_num)\\\n",
    "            , columns = ['decay_rate','t_unbias', 'min_degree', 'maj_degree'], dtype = float)\n",
    "\n",
    "\n",
    "\n",
    "if decay:\n",
    "    eps = 0.9\n",
    "else:\n",
    "    eps = 1\n",
    "\n",
    "distribution = 'identical'\n",
    "\n",
    "t_unbias_array = np.array( t_unbias_array )\n",
    "\n",
    "counter = 0\n",
    "for decay_value in decay_rates:\n",
    "    eps = decay_value\n",
    "    for t_unbias in t_unbias_array:\n",
    "        print(t_unbias)\n",
    "        iter_means = []\n",
    "        for i in range(run_num):\n",
    "            degrees, modes, fitnesses = net_grow( step_num, mode_num, proportion, h, k_init, late_comer_mode\\\n",
    "             , t_emerge, t_unbias, distribution, history_step_size, eps)\n",
    "            decay_df.loc[counter,'eps'] = eps\n",
    "            decay_df.loc[counter,'t_unbias'] = t_unbias\n",
    "            decay_df.loc[counter,'min_degree'] = degrees[modes==0].mean()\n",
    "            decay_df.loc[counter,'maj_degree'] = degrees[modes==1].mean()\n",
    "    #         degrees_ensemble.append( degrees )\n",
    "            iter_means.append( degrees[modes==0].mean() )\n",
    "            counter += 1\n",
    "\n",
    "\n",
    "        if decay:\n",
    "            minority_degrees_ensemble_decayed.append ( np.mean(iter_means) )\n",
    "        else:\n",
    "            minority_degrees_ensemble_no_decay.append ( np.mean(iter_means) )\n",
    "\n"
   ]
  },
  {
   "cell_type": "code",
   "execution_count": null,
   "metadata": {},
   "outputs": [],
   "source": [
    "summurized_decay_df = decay_df.groupby(['eps', 't_unbias']).mean().reset_index()"
   ]
  },
  {
   "cell_type": "code",
   "execution_count": null,
   "metadata": {},
   "outputs": [],
   "source": [
    "summurized_decay_df.head()"
   ]
  },
  {
   "cell_type": "code",
   "execution_count": null,
   "metadata": {},
   "outputs": [],
   "source": [
    "decay_rates = summurized_decay_df['eps'].unique()"
   ]
  },
  {
   "cell_type": "code",
   "execution_count": null,
   "metadata": {},
   "outputs": [],
   "source": [
    "matplotlib.rcParams.update({'font.size': 14})\n",
    "\n",
    "fig, ax = plt.subplots()\n",
    "\n",
    "colors = sns.color_palette(\"Paired\")\n",
    "mode = 1\n",
    "# ax.plot( t_unbias_array / step_num, minority_degrees_ensemble_decayed, '--o'\\\n",
    "#         , c = 'darkorange', markeredgecolor = 'k', label = '$\\epsilon = 0.9$' )\n",
    "\n",
    "for d_i, decay_rate in enumerate(decay_rates):\n",
    "    \n",
    "    eps_specific_decay = summurized_decay_df.loc[ summurized_decay_df['eps'] == decay_rate ].drop(columns = ['eps', 'maj_degree'])\n",
    "#     eps_specific_decay.plot(x = 't_unbias', ax = ax)\n",
    "    x = eps_specific_decay['t_unbias'].to_numpy() / step_num\n",
    "    y = eps_specific_decay['min_degree'].to_numpy()\n",
    "    label = \"$\\epsilon=$\" + str(decay_rate)\n",
    "    \n",
    "    ax.plot( x, y, '--o'\\\n",
    "        , c = colors[d_i],  markeredgecolor = 'k', label = label )\n",
    "    \n",
    "\n",
    "    \n",
    "# ax.set_ylabel('$ \\langle k_{m}(\\infty) \\\\rangle $')\n",
    "ax.set_ylabel('$ \\langle k_{m} \\\\rangle $')\n",
    "\n",
    "ax.set_xlabel('$ t_u $')\n",
    "\n",
    "\n",
    "ax.axhline( degrees.mean(), c='k', linestyle = 'dashed', zorder = 0\\\n",
    "           , label = '$ \\langle k \\\\rangle $')\n",
    "# ax.legend(fontsize = '13')\n",
    "\n",
    "ax.ticklabel_format(axis='y', style='sci', scilimits=(0,0))\n",
    "ax.yaxis.major.formatter._useMathText = True\n",
    "\n",
    "\n",
    "# fig.savefig('K.png', dpi = 200, bbox_inches='tight')\n",
    "# fig.savefig('Unbiasing-Minority-End-K.png', dpi = 200, bbox_inches='tight')"
   ]
  },
  {
   "cell_type": "code",
   "execution_count": 77,
   "metadata": {},
   "outputs": [
    {
     "ename": "ValueError",
     "evalue": "x and y must have same first dimension, but have shapes (6,) and (18,)",
     "output_type": "error",
     "traceback": [
      "\u001b[0;31m---------------------------------------------------------------------------\u001b[0m",
      "\u001b[0;31mValueError\u001b[0m                                Traceback (most recent call last)",
      "\u001b[0;32m/tmp/ipykernel_12586/1628091176.py\u001b[0m in \u001b[0;36m<module>\u001b[0;34m\u001b[0m\n\u001b[1;32m      3\u001b[0m \u001b[0mfig\u001b[0m\u001b[0;34m,\u001b[0m \u001b[0max\u001b[0m \u001b[0;34m=\u001b[0m \u001b[0mplt\u001b[0m\u001b[0;34m.\u001b[0m\u001b[0msubplots\u001b[0m\u001b[0;34m(\u001b[0m\u001b[0;34m)\u001b[0m\u001b[0;34m\u001b[0m\u001b[0;34m\u001b[0m\u001b[0m\n\u001b[1;32m      4\u001b[0m \u001b[0;34m\u001b[0m\u001b[0m\n\u001b[0;32m----> 5\u001b[0;31m ax.plot( t_unbias_array / step_num, minority_degrees_ensemble_no_decay, '--o'\\\n\u001b[0m\u001b[1;32m      6\u001b[0m         , c = 'cornflowerblue', markeredgecolor = 'k', label = '$\\epsilon = 1$' )\n\u001b[1;32m      7\u001b[0m \u001b[0;34m\u001b[0m\u001b[0m\n",
      "\u001b[0;32m~/.local/lib/python3.8/site-packages/matplotlib/axes/_axes.py\u001b[0m in \u001b[0;36mplot\u001b[0;34m(self, scalex, scaley, data, *args, **kwargs)\u001b[0m\n\u001b[1;32m   1603\u001b[0m         \"\"\"\n\u001b[1;32m   1604\u001b[0m         \u001b[0mkwargs\u001b[0m \u001b[0;34m=\u001b[0m \u001b[0mcbook\u001b[0m\u001b[0;34m.\u001b[0m\u001b[0mnormalize_kwargs\u001b[0m\u001b[0;34m(\u001b[0m\u001b[0mkwargs\u001b[0m\u001b[0;34m,\u001b[0m \u001b[0mmlines\u001b[0m\u001b[0;34m.\u001b[0m\u001b[0mLine2D\u001b[0m\u001b[0;34m)\u001b[0m\u001b[0;34m\u001b[0m\u001b[0;34m\u001b[0m\u001b[0m\n\u001b[0;32m-> 1605\u001b[0;31m         \u001b[0mlines\u001b[0m \u001b[0;34m=\u001b[0m \u001b[0;34m[\u001b[0m\u001b[0;34m*\u001b[0m\u001b[0mself\u001b[0m\u001b[0;34m.\u001b[0m\u001b[0m_get_lines\u001b[0m\u001b[0;34m(\u001b[0m\u001b[0;34m*\u001b[0m\u001b[0margs\u001b[0m\u001b[0;34m,\u001b[0m \u001b[0mdata\u001b[0m\u001b[0;34m=\u001b[0m\u001b[0mdata\u001b[0m\u001b[0;34m,\u001b[0m \u001b[0;34m**\u001b[0m\u001b[0mkwargs\u001b[0m\u001b[0;34m)\u001b[0m\u001b[0;34m]\u001b[0m\u001b[0;34m\u001b[0m\u001b[0;34m\u001b[0m\u001b[0m\n\u001b[0m\u001b[1;32m   1606\u001b[0m         \u001b[0;32mfor\u001b[0m \u001b[0mline\u001b[0m \u001b[0;32min\u001b[0m \u001b[0mlines\u001b[0m\u001b[0;34m:\u001b[0m\u001b[0;34m\u001b[0m\u001b[0;34m\u001b[0m\u001b[0m\n\u001b[1;32m   1607\u001b[0m             \u001b[0mself\u001b[0m\u001b[0;34m.\u001b[0m\u001b[0madd_line\u001b[0m\u001b[0;34m(\u001b[0m\u001b[0mline\u001b[0m\u001b[0;34m)\u001b[0m\u001b[0;34m\u001b[0m\u001b[0;34m\u001b[0m\u001b[0m\n",
      "\u001b[0;32m~/.local/lib/python3.8/site-packages/matplotlib/axes/_base.py\u001b[0m in \u001b[0;36m__call__\u001b[0;34m(self, data, *args, **kwargs)\u001b[0m\n\u001b[1;32m    313\u001b[0m                 \u001b[0mthis\u001b[0m \u001b[0;34m+=\u001b[0m \u001b[0margs\u001b[0m\u001b[0;34m[\u001b[0m\u001b[0;36m0\u001b[0m\u001b[0;34m]\u001b[0m\u001b[0;34m,\u001b[0m\u001b[0;34m\u001b[0m\u001b[0;34m\u001b[0m\u001b[0m\n\u001b[1;32m    314\u001b[0m                 \u001b[0margs\u001b[0m \u001b[0;34m=\u001b[0m \u001b[0margs\u001b[0m\u001b[0;34m[\u001b[0m\u001b[0;36m1\u001b[0m\u001b[0;34m:\u001b[0m\u001b[0;34m]\u001b[0m\u001b[0;34m\u001b[0m\u001b[0;34m\u001b[0m\u001b[0m\n\u001b[0;32m--> 315\u001b[0;31m             \u001b[0;32myield\u001b[0m \u001b[0;32mfrom\u001b[0m \u001b[0mself\u001b[0m\u001b[0;34m.\u001b[0m\u001b[0m_plot_args\u001b[0m\u001b[0;34m(\u001b[0m\u001b[0mthis\u001b[0m\u001b[0;34m,\u001b[0m \u001b[0mkwargs\u001b[0m\u001b[0;34m)\u001b[0m\u001b[0;34m\u001b[0m\u001b[0;34m\u001b[0m\u001b[0m\n\u001b[0m\u001b[1;32m    316\u001b[0m \u001b[0;34m\u001b[0m\u001b[0m\n\u001b[1;32m    317\u001b[0m     \u001b[0;32mdef\u001b[0m \u001b[0mget_next_color\u001b[0m\u001b[0;34m(\u001b[0m\u001b[0mself\u001b[0m\u001b[0;34m)\u001b[0m\u001b[0;34m:\u001b[0m\u001b[0;34m\u001b[0m\u001b[0;34m\u001b[0m\u001b[0m\n",
      "\u001b[0;32m~/.local/lib/python3.8/site-packages/matplotlib/axes/_base.py\u001b[0m in \u001b[0;36m_plot_args\u001b[0;34m(self, tup, kwargs, return_kwargs)\u001b[0m\n\u001b[1;32m    499\u001b[0m \u001b[0;34m\u001b[0m\u001b[0m\n\u001b[1;32m    500\u001b[0m         \u001b[0;32mif\u001b[0m \u001b[0mx\u001b[0m\u001b[0;34m.\u001b[0m\u001b[0mshape\u001b[0m\u001b[0;34m[\u001b[0m\u001b[0;36m0\u001b[0m\u001b[0;34m]\u001b[0m \u001b[0;34m!=\u001b[0m \u001b[0my\u001b[0m\u001b[0;34m.\u001b[0m\u001b[0mshape\u001b[0m\u001b[0;34m[\u001b[0m\u001b[0;36m0\u001b[0m\u001b[0;34m]\u001b[0m\u001b[0;34m:\u001b[0m\u001b[0;34m\u001b[0m\u001b[0;34m\u001b[0m\u001b[0m\n\u001b[0;32m--> 501\u001b[0;31m             raise ValueError(f\"x and y must have same first dimension, but \"\n\u001b[0m\u001b[1;32m    502\u001b[0m                              f\"have shapes {x.shape} and {y.shape}\")\n\u001b[1;32m    503\u001b[0m         \u001b[0;32mif\u001b[0m \u001b[0mx\u001b[0m\u001b[0;34m.\u001b[0m\u001b[0mndim\u001b[0m \u001b[0;34m>\u001b[0m \u001b[0;36m2\u001b[0m \u001b[0;32mor\u001b[0m \u001b[0my\u001b[0m\u001b[0;34m.\u001b[0m\u001b[0mndim\u001b[0m \u001b[0;34m>\u001b[0m \u001b[0;36m2\u001b[0m\u001b[0;34m:\u001b[0m\u001b[0;34m\u001b[0m\u001b[0;34m\u001b[0m\u001b[0m\n",
      "\u001b[0;31mValueError\u001b[0m: x and y must have same first dimension, but have shapes (6,) and (18,)"
     ]
    },
    {
     "data": {
      "image/png": "[encoded data removed]",
      "text/plain": [
       "<Figure size 432x288 with 1 Axes>"
      ]
     },
     "metadata": {
      "needs_background": "light"
     },
     "output_type": "display_data"
    }
   ],
   "source": [
    "matplotlib.rcParams.update({'font.size': 14})\n",
    "\n",
    "fig, ax = plt.subplots()\n",
    "\n",
    "ax.plot( t_unbias_array / step_num, minority_degrees_ensemble_no_decay, '--o'\\\n",
    "        , c = 'cornflowerblue', markeredgecolor = 'k', label = '$\\epsilon = 1$' )\n",
    "\n",
    "ax.plot( t_unbias_array / step_num, minority_degrees_ensemble_decayed, '--o'\\\n",
    "        , c = 'darkorange', markeredgecolor = 'k', label = '$\\epsilon = 0.9$' )\n",
    "\n",
    "ax.set_ylabel('$ \\langle k_{m}(\\infty) \\\\rangle $')\n",
    "ax.set_xlabel('$ t_u $')\n",
    "\n",
    "\n",
    "ax.axhline( degrees.mean(), c='k', linestyle = 'dashed', zorder = 0\\\n",
    "           , label = '$ \\langle k \\\\rangle $')\n",
    "ax.legend(fontsize = '13')\n",
    "\n",
    "ax.ticklabel_format(axis='y', style='sci', scilimits=(0,0))\n",
    "ax.yaxis.major.formatter._useMathText = True\n",
    "\n",
    "# ax.ticklabel_format(axis='x', style='sci', scilimits=(0,0))\n",
    "# ax.xaxis.major.formatter._useMathText = True\n",
    "\n",
    "fig.savefig('K.png', dpi = 200, bbox_inches='tight')\n",
    "# fig.savefig('Unbiasing-Minority-End-K.png', dpi = 200, bbox_inches='tight')"
   ]
  },
  {
   "cell_type": "code",
   "execution_count": null,
   "metadata": {},
   "outputs": [],
   "source": [
    "# minority_degrees_ensemble_decayed"
   ]
  },
  {
   "cell_type": "code",
   "execution_count": null,
   "metadata": {},
   "outputs": [],
   "source": []
  },
  {
   "cell_type": "code",
   "execution_count": null,
   "metadata": {},
   "outputs": [],
   "source": [
    "\n",
    "matplotlib.rcParams.update({'font.size': 13})\n",
    "\n",
    "colors = sns.color_palette(\"Paired\")\n",
    "# colors = plt.cm.Paired\n",
    "\n",
    "for mode in range(mode_num):\n",
    "    \n",
    "    m_degrees = degrees_history[:, modes == mode ]\n",
    "    ax.plot(history_steps, m_degrees.mean(1), '-', alpha = 0.5, c = colors[2 * mode + 1], markeredgecolor='k', linewidth = 2.5)\n",
    "#     ax.set_xscale('log')\n",
    "#     ax.set_yscale('log')\n",
    "\n",
    "    # ax.set_xlim( [ 0, 10 ] )\n",
    "\n",
    "ax.axvline(t_unbias, c='k', linestyle = 'dotted', zorder = 0)\n",
    "# t_unbias\n",
    "\n",
    "plt.show()"
   ]
  },
  {
   "cell_type": "markdown",
   "metadata": {},
   "source": [
    "$p_\\alpha$ : Proportion of group $\\alpha$\n",
    "\n",
    "$ \\tilde{\\rho_{\\alpha}}(k)  = \\frac { \\Sigma{k_{\\alpha} } }{ \\Sigma{k}} \\times \\frac{1}{p_{\\alpha}}   $"
   ]
  },
  {
   "cell_type": "code",
   "execution_count": 14,
   "metadata": {},
   "outputs": [
    {
     "name": "stdout",
     "output_type": "stream",
     "text": [
      "2 5001\n",
      "50 5001\n",
      "100 5001\n",
      "500 5001\n",
      "1000 5001\n",
      "1500 5001\n"
     ]
    }
   ],
   "source": [
    "step_num = 5000\n",
    "h = 0.8\n",
    "run_num = 50\n",
    "degrees_ensemble = []\n",
    "proportion = 0.1\n",
    "decay = False\n",
    "t_unbias = step_num + 1\n",
    "\n",
    "if decay:\n",
    "    minority_degrees_ensemble_decayed = []\n",
    "else:\n",
    "    minority_degrees_ensemble_no_decay = []\n",
    "    minority_min_ensemble = []\n",
    "history_step_size = 0\n",
    "# t_unbias_array = np.arange(step_num//40, step_num//4, step_num//40)\n",
    "# t_unbias_array = list( np.arange(100, 500, 200) ) + list( np.arange(500, step_num, 750) )\n",
    "t_unbias_array = [ 2, 50, 100, 500, 1000, 1500 ]\n",
    "# np.floor( t_unbias_array * step_num )\n",
    "# t_unbias_array = list( np.arange(100, step_num, 500) )\n",
    "\n",
    "if decay:\n",
    "    eps = 0.9\n",
    "else:\n",
    "    eps = 1\n",
    "\n",
    "distribution = 'identical'\n",
    "\n",
    "t_unbias_array = np.array( t_unbias_array )\n",
    "for t_emerge in t_unbias_array:\n",
    "    print(t_emerge, t_unbias)\n",
    "    iter_means = []\n",
    "    min_population = []\n",
    "    for i in range(run_num):\n",
    "        degrees, modes, fitnesses = net_grow( step_num, mode_num, proportion, h, k_init, late_comer_mode\\\n",
    "         , t_emerge, t_unbias, distribution, history_step_size, eps)\n",
    "\n",
    "#         degrees_ensemble.append( degrees )\n",
    "        iter_means.append( degrees[modes==0].mean() )\n",
    "        min_population.append( (modes==0).sum() )\n",
    "    if decay:\n",
    "        minority_degrees_ensemble_decayed.append ( np.mean(iter_means) )\n",
    "    else:\n",
    "        minority_degrees_ensemble_no_decay.append ( np.mean(iter_means) )\n",
    "        minority_min_ensemble.append( np.mean(min_population) )\n",
    "\n"
   ]
  },
  {
   "cell_type": "code",
   "execution_count": 15,
   "metadata": {},
   "outputs": [
    {
     "data": {
      "image/png": "[encoded data removed]",
      "text/plain": [
       "<Figure size 432x288 with 2 Axes>"
      ]
     },
     "metadata": {
      "needs_background": "light"
     },
     "output_type": "display_data"
    }
   ],
   "source": [
    "matplotlib.rcParams.update({'font.size': 14})\n",
    "\n",
    "fig, ax = plt.subplots()\n",
    "\n",
    "ax.plot( t_unbias_array / step_num, minority_degrees_ensemble_no_decay, '--o'\\\n",
    "        , c = 'k', markeredgecolor = 'k', label = '$\\epsilon = 1$' )\n",
    "ax2 = ax.twinx()\n",
    "ax2.plot( t_unbias_array / step_num, np.array( minority_min_ensemble ) / step_num, '--o'\\\n",
    "        , c = 'red', markeredgecolor = 'k', label = '$\\epsilon = 0.9$' )\n",
    "\n",
    "# ax2.tick_params(axis='y', colors=p2.get_color(), **tkw)\n",
    "# twin2.tick_params(axis='y', colors=p3.get_color(), **tkw)\n",
    "\n",
    "ax2.tick_params(axis='y', colors='red')\n",
    "# ax.tick_params(axis='y', colors=p3.get_color(), **tkw)\n",
    "\n",
    "\n",
    "# ax2.yaxis.label.set_color(p2.get_color())\n",
    "ax2.yaxis.label.set_color('red')\n",
    "\n",
    "ax2.set_ylabel('$ Fraction $')\n",
    "\n",
    "\n",
    "ax.set_ylabel('$ \\langle k_{m}(\\infty) \\\\rangle $')\n",
    "ax.set_xlabel('$ t_e $')\n",
    "\n",
    "\n",
    "# ax.axhline( degrees.mean(), c='k', linestyle = 'dashed', zorder = 0\\\n",
    "#            , label = '$ \\langle k \\\\rangle $')\n",
    "# ax.legend(fontsize = '13')\n",
    "\n",
    "ax.ticklabel_format(axis='y', style='sci', scilimits=(0,0))\n",
    "ax.yaxis.major.formatter._useMathText = True\n",
    "\n",
    "# ax.ticklabel_format(axis='x', style='sci', scilimits=(0,0))\n",
    "# ax.xaxis.major.formatter._useMathText = True\n",
    "\n",
    "# fig.savefig('K.png', dpi = 200, bbox_inches='tight')\n",
    "fig.savefig('t_e_prop=0-1.png', dpi = 200, bbox_inches='tight')"
   ]
  },
  {
   "cell_type": "code",
   "execution_count": 39,
   "metadata": {},
   "outputs": [
    {
     "data": {
      "text/plain": [
       "array([0.90028, 0.88356, 0.81978, 0.74078, 0.6597 , 0.57978])"
      ]
     },
     "execution_count": 39,
     "metadata": {},
     "output_type": "execute_result"
    }
   ],
   "source": []
  },
  {
   "cell_type": "code",
   "execution_count": null,
   "metadata": {},
   "outputs": [],
   "source": []
  }
 ],
 "metadata": {
  "kernelspec": {
   "display_name": "Python 3 (ipykernel)",
   "language": "python",
   "name": "python3"
  },
  "language_info": {
   "codemirror_mode": {
    "name": "ipython",
    "version": 3
   },
   "file_extension": ".py",
   "mimetype": "text/x-python",
   "name": "python",
   "nbconvert_exporter": "python",
   "pygments_lexer": "ipython3",
   "version": "3.8.10"
  }
 },
 "nbformat": 4,
 "nbformat_minor": 4
}
